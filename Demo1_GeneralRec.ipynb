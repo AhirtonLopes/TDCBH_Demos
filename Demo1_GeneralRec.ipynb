{
  "nbformat": 4,
  "nbformat_minor": 0,
  "metadata": {
    "colab": {
      "name": "GeneralRec.ipynb",
      "version": "0.3.2",
      "provenance": [],
      "include_colab_link": true
    },
    "language_info": {
      "codemirror_mode": {
        "name": "ipython",
        "version": 2
      },
      "file_extension": ".py",
      "mimetype": "text/x-python",
      "name": "python",
      "nbconvert_exporter": "python",
      "pygments_lexer": "ipython2",
      "version": "2.7.14"
    },
    "kernelspec": {
      "display_name": "Python 2",
      "language": "python",
      "name": "python2"
    }
  },
  "cells": [
    {
      "cell_type": "markdown",
      "metadata": {
        "id": "view-in-github",
        "colab_type": "text"
      },
      "source": [
        "<a href=\"https://colab.research.google.com/github/AhirtonLopes/TDCBH_Demos/blob/master/Demo1_GeneralRec.ipynb\" target=\"_parent\"><img src=\"https://colab.research.google.com/assets/colab-badge.svg\" alt=\"Open In Colab\"/></a>"
      ]
    },
    {
      "cell_type": "code",
      "metadata": {
        "id": "YLqds6jrbfda",
        "colab_type": "code",
        "colab": {}
      },
      "source": [
        "#!/usr/bin/python\n",
        "# coding: utf-8\n",
        "\n",
        "#General Purpose Recommendation - Python - Jose Ahirton Lopes\n",
        "\n",
        "\"\"\"\n",
        "__author__ = \"Ahirton Lopes\"\n",
        "__copyright__ = \"Copyright 2018\"\n",
        "__credits__ = [\"Ahirton Lopes\"]\n",
        "__license__ = \"None\"\n",
        "__version__ = \"1.0\"\n",
        "__maintainer__ = \"Ahirton Lopes\"\n",
        "__email__ = \"ahirtonlopes@gmail.com\"\n",
        "__status__ = \"Beta\"\n",
        "\"\"\"\n",
        "\n",
        "#Imports diversos, numpy para operações com matrizes e vetores \n",
        "\n",
        "import pandas as pd\n",
        "import numpy as np\n",
        "import unicodedata\n",
        "import pandas as pd\n",
        "\n",
        "#Opcoes para print de todos os dados do dataset\n",
        "\n",
        "pd.set_option(\"display.max_columns\", 15)\n",
        "pd.set_option(\"display.width\", 200)\n",
        "\n",
        "#Criacao de dataframe via dataset\n",
        "\n",
        "df = pd.read_csv('Desktop/ecommerce_data.csv', encoding=\"ISO-8859-1\", dtype={'CustomerID': str, 'InvoiceID': str})\n",
        "\n",
        "#print df"
      ],
      "execution_count": 0,
      "outputs": []
    },
    {
      "cell_type": "code",
      "metadata": {
        "id": "V39meksEbfde",
        "colab_type": "code",
        "colab": {}
      },
      "source": [
        "#Criacao de dataframe de vendas agrupando itens (com respectivas descricao e preco total)\n",
        "\n",
        "dfsales = df.groupby('Description')['UnitPrice'].sum()\n",
        "dfsales = pd.DataFrame(dfsales)\n",
        "dfsales = dfsales.sort_values('UnitPrice', ascending=False)\n",
        "dfsales['Description'] = dfsales.index\n",
        "\n",
        "dfsales = dfsales[0:100]\n",
        "\n",
        "#print dfsales\n",
        "\n",
        "columns_to_keep = ['Description', 'CustomerID']\n",
        "df1 = df[columns_to_keep]\n",
        "uniqueproducts = dfsales['Description'].unique()\n",
        "\n",
        "halfproducts = uniqueproducts[4:100]  \n",
        "df1 = df1.where(df1['Description'].isin(halfproducts)).dropna()\n",
        "df1 = df1.set_index('CustomerID')\n",
        "\n",
        "#print df1\n",
        "\n",
        "df2 = pd.get_dummies(df1)\n",
        "df2 = df2.reset_index()\n",
        "\n",
        "#print df2\n",
        "\n",
        "uniqueproducts = df2.columns.values\n",
        "\n",
        "#print uniqueproducts\n",
        "\n",
        "listoflists = []\n",
        "\n",
        "for item in uniqueproducts[1:]:\n",
        "    df3 = df2.groupby('CustomerID')[item].max()\n",
        "    listoflists.append(df3.values)\n",
        "    customerlist = df3.index\n",
        "\n",
        "newdf = pd.DataFrame(listoflists)\n",
        "newdf['Product Name'] = uniqueproducts[1:]\n",
        "newdf = newdf.set_index('Product Name')\n",
        "newdf = newdf.T\n",
        "newdf['CustomerID'] = customerlist\n",
        "newdf = newdf.set_index('CustomerID')\n",
        "\n",
        "#print newdf"
      ],
      "execution_count": 0,
      "outputs": []
    },
    {
      "cell_type": "code",
      "metadata": {
        "id": "vw2p4mxbbfdg",
        "colab_type": "code",
        "colab": {},
        "outputId": "a9fc14bf-87c7-4dfa-f0ad-9a046fea10bd"
      },
      "source": [
        "#Etapa de Teste - Loop iterando por cada coluna agrupando os scores de teste para cada produto\n",
        "#Recall é utilizado como medida para score de teste referente ao modelo\n",
        "\n",
        "from sklearn.model_selection import train_test_split\n",
        "from sklearn.tree import DecisionTreeClassifier\n",
        "from sklearn.metrics import confusion_matrix\n",
        "from sklearn.metrics import precision_score\n",
        "from sklearn.metrics import recall_score\n",
        "from sklearn.ensemble import RandomForestClassifier  \n",
        "\n",
        "listofproducts = []\n",
        "listofrecall = []\n",
        "\n",
        "for column, name in enumerate(newdf.columns.values):\n",
        "    columntotest = column\n",
        "    excludedcolumn = newdf.columns.values[columntotest]\n",
        "    X_sales = newdf.iloc[:, 0:]\n",
        "    X_sales = X_sales.drop(excludedcolumn, axis=1, level=None, inplace=False, errors='raise')\n",
        "    y_sales = newdf.iloc[:, columntotest]\n",
        "    X_train, X_test, y_train, y_test = train_test_split(X_sales, y_sales, random_state=0)\n",
        "    \n",
        "    #Utilizando arvore de decisao para calculo de scores de recomendação de cada produto p/ cada cliente \n",
        "    clf = DecisionTreeClassifier(max_depth=10, random_state=0).fit(X_train, y_train)\n",
        "    clf_predicted = clf.predict(X_test)\n",
        "    confusion = confusion_matrix(y_test, clf_predicted)\n",
        "    precision = precision_score(y_test, clf_predicted)\n",
        "    recall = recall_score(y_test, clf_predicted)\n",
        "    #print(excludedcolumn)\n",
        "    #print('Precision Score: {:.2f}'.format(precision))\n",
        "    #print('Recall Score: {:.2f}'.format(recall))\n",
        "    listofproducts.append(excludedcolumn)\n",
        "    listofrecall.append(recall)\n",
        "accuracydf = pd.DataFrame({'Recommendation': listofproducts, 'Score': listofrecall})\n",
        "\n",
        "accuracydf.mean()"
      ],
      "execution_count": 0,
      "outputs": [
        {
          "output_type": "stream",
          "text": [
            "/Users/ahirtonlopes/anaconda2/lib/python2.7/site-packages/sklearn/metrics/classification.py:1137: UndefinedMetricWarning: Recall is ill-defined and being set to 0.0 due to no true samples.\n",
            "  'recall', 'true', average, warn_for)\n",
            "/Users/ahirtonlopes/anaconda2/lib/python2.7/site-packages/sklearn/metrics/classification.py:1135: UndefinedMetricWarning: Precision is ill-defined and being set to 0.0 due to no predicted samples.\n",
            "  'precision', 'predicted', average, warn_for)\n"
          ],
          "name": "stderr"
        },
        {
          "output_type": "execute_result",
          "data": {
            "text/plain": [
              "Score    0.281022\n",
              "dtype: float64"
            ]
          },
          "metadata": {
            "tags": []
          },
          "execution_count": 6
        }
      ]
    },
    {
      "cell_type": "code",
      "metadata": {
        "id": "ugFvetN8bfdk",
        "colab_type": "code",
        "colab": {}
      },
      "source": [
        "#Calculo de probabilidades - Loop iterando todos os clientes e produtos.\n",
        "\n",
        "from sklearn.model_selection import train_test_split\n",
        "from sklearn.tree import DecisionTreeClassifier\n",
        "from sklearn.metrics import confusion_matrix\n",
        "from sklearn.ensemble import RandomForestClassifier\n",
        "\n",
        "mastervaluelist = []\n",
        "masterproductlist = []\n",
        "masterprobabilitylist = []\n",
        "\n",
        "columnvalues = newdf.columns.values\n",
        "columnvalues = columnvalues[0:-1]"
      ],
      "execution_count": 0,
      "outputs": []
    },
    {
      "cell_type": "code",
      "metadata": {
        "id": "Vh0R4eHBbfdm",
        "colab_type": "code",
        "colab": {},
        "outputId": "c09b36a3-467d-4e5e-e4f6-e6ea912d3fd7"
      },
      "source": [
        "for column, name in enumerate(columnvalues):\n",
        "    #print('predicting product number: ', column, ':', name)\n",
        "\n",
        "    columntotest = column\n",
        "    excludedcolumn = newdf.columns.values[columntotest]\n",
        "    X_sales = newdf.iloc[:, 0:]\n",
        "    X_sales = X_sales.drop(excludedcolumn, axis=1, level=None, inplace=False, errors='raise')\n",
        "    y_sales = newdf.iloc[:, columntotest]\n",
        "    X_train, X_test, y_train, y_test = train_test_split(X_sales, y_sales, random_state=0)\n",
        "    clf = DecisionTreeClassifier(max_depth=10, random_state=0).fit(X_train, y_train)\n",
        "    lookforcustomers = X_test.where(newdf[excludedcolumn] == 0).dropna()\n",
        "\n",
        "    clf_predicted = clf.predict(lookforcustomers)\n",
        "    logs = clf.predict_proba(lookforcustomers)\n",
        "\n",
        "    probabilitylist = []\n",
        "    for item in logs:\n",
        "        try:\n",
        "            probabilitylist.append(float(item[1]))\n",
        "        except:\n",
        "            probabilitylist.append(float(0.0))\n",
        "\n",
        "    predicteddf = pd.DataFrame({'Customer Tested': lookforcustomers.index, 'Prediction': probabilitylist})\n",
        "    predicteddf = predicteddf.set_index('Customer Tested')\n",
        "    predictedvalues = predicteddf.index.values\n",
        "    predictedvalues = predictedvalues.tolist()\n",
        "    mastervaluelist = mastervaluelist + predictedvalues\n",
        "    predictedproduct = [excludedcolumn] * len(predictedvalues)\n",
        "    masterproductlist = masterproductlist + predictedproduct\n",
        "    masterprobabilitylist = masterprobabilitylist + probabilitylist\n",
        "\n",
        "#Organizando todos os clientes, probabilidades, produtos e scores em um so dataframe para consulta via front.\n",
        "\n",
        "finaldf = pd.DataFrame(\n",
        "    {'Customer': mastervaluelist, 'Recommendation': masterproductlist, 'Probability': masterprobabilitylist})\n",
        "\n",
        "finalfinaldf = pd.merge(finaldf, accuracydf, on='Recommendation', how='outer')\n",
        "finalfinaldf.sort_values(['Customer', 'Score'], ascending=False)\n",
        "\n",
        "finalfinaldf['WeightedScore'] = finalfinaldf['Probability'] * finalfinaldf['Score']\n",
        "\n",
        "finalfinaldf = finalfinaldf.where(finalfinaldf['WeightedScore'] != 0).dropna().sort_values(\n",
        "    ['Customer', 'WeightedScore'], ascending=False)\n",
        "finalfinaldf.groupby('Customer').head(3)\n",
        "\n",
        "print(finalfinaldf)"
      ],
      "execution_count": 0,
      "outputs": [
        {
          "output_type": "stream",
          "text": [
            "      Customer  Probability                                   Recommendation     Score  WeightedScore\n",
            "3265     18280     0.567568           Description_ALARM CLOCK BAKELIKE GREEN  0.722892       0.410290\n",
            "4133     18280     0.241379            Description_ALARM CLOCK BAKELIKE PINK  0.671642       0.162120\n",
            "58316    18280     0.079900             Description_REGENCY CAKESTAND 3 TIER  0.399038       0.031883\n",
            "77391    18280     0.050000   Description_WOOD 2 DRAWER CABINET WHITE FINISH  0.490566       0.024528\n",
            "75678    18280     0.093773   Description_WHITE HANGING HEART T-LIGHT HOLDER  0.239437       0.022453\n",
            "50477    18280     0.085171                        Description_PARTY BUNTING  0.233533       0.019890\n",
            "49691    18280     0.083597      Description_PAPER CHAIN KIT 50'S CHRISTMAS   0.222222       0.018577\n",
            "41089    18280     0.040662              Description_JUMBO BAG RED RETROSPOT  0.433962       0.017646\n",
            "6698     18280     0.089256        Description_BAKING SET 9 PIECE RETROSPOT   0.179487       0.016020\n",
            "66122    18280     0.032258    Description_SET OF 3 CAKE TINS PANTRY DESIGN   0.458065       0.014776\n",
            "46290    18280     0.040185              Description_LUNCH BAG RED RETROSPOT  0.328125       0.013186\n",
            "43655    18280     0.040816             Description_LOVE BUILDING BLOCK WORD  0.303797       0.012400\n",
            "70368    18280     0.048569                       Description_SPOTTY BUNTING  0.227941       0.011071\n",
            "60872    18280     0.054093     Description_RETROSPOT TEA SET CERAMIC 11 PC   0.172414       0.009326\n",
            "39464    18280     0.042332             Description_JAM MAKING SET WITH JARS  0.211538       0.008955\n",
            "33442    18280     0.043478                Description_HEART OF WICKER LARGE  0.205128       0.008919\n",
            "13043    18280     0.040816                        Description_CHILLI LIGHTS  0.200000       0.008163\n",
            "37777    18280     0.017094               Description_IVORY DINER WALL CLOCK  0.457627       0.007823\n",
            "38644    18280     0.016969                 Description_IVORY KITCHEN SCALES  0.458333       0.007777\n",
            "54865    18280     0.025641                   Description_RED KITCHEN SCALES  0.291667       0.007479\n",
            "48909    18280     0.047324      Description_NATURAL SLATE HEART CHALKBOARD   0.137931       0.006527\n",
            "53101    18280     0.020772      Description_RECIPE BOX PANTRY YELLOW DESIGN  0.276190       0.005737\n",
            "36034    18280     0.012308           Description_HOT WATER BOTTLE KEEP CALM  0.428571       0.005275\n",
            "25440    18280     0.013849                   Description_DOORMAT UNION FLAG  0.360000       0.004986\n",
            "63499    18280     0.014058         Description_SCOTTIE DOG HOT WATER BOTTLE  0.320000       0.004498\n",
            "74885    18280     0.025862           Description_VINTAGE UNION JACK BUNTING  0.172414       0.004459\n",
            "61713    18280     0.006905     Description_ROSES REGENCY TEACUP AND SAUCER   0.642857       0.004439\n",
            "21943    18280     0.017664        Description_DOORMAT KEEP CALM AND COME IN  0.247312       0.004368\n",
            "41916    18280     0.019417    Description_JUMBO SHOPPER VINTAGE RED PAISLEY  0.211765       0.004112\n",
            "71219    18280     0.020045          Description_SWEETHEART CAKESTAND 3 TIER  0.202899       0.004067\n",
            "...        ...          ...                                              ...       ...            ...\n",
            "36512    12349     0.018018    Description_HOT WATER BOTTLE TEA AND SYMPATHY  0.432836       0.007799\n",
            "6350     12349     0.038835        Description_BAKING SET 9 PIECE RETROSPOT   0.179487       0.006970\n",
            "13538    12349     0.015152           Description_CHOCOLATE HOT WATER BOTTLE  0.452632       0.006858\n",
            "40748    12349     0.015625              Description_JUMBO BAG RED RETROSPOT  0.433962       0.006781\n",
            "14392    12349     0.037037         Description_CHRISTMAS LIGHTS 10 REINDEER  0.177778       0.006584\n",
            "48546    12349     0.047324      Description_NATURAL SLATE HEART CHALKBOARD   0.137931       0.006527\n",
            "8961     12349     0.021277          Description_BREAD BIN DINER STYLE IVORY  0.303571       0.006459\n",
            "42409    12349     0.015455               Description_JUMBO STORAGE BAG SUKI  0.345238       0.005335\n",
            "70836    12349     0.023810          Description_SWEETHEART CAKESTAND 3 TIER  0.202899       0.004831\n",
            "38273    12349     0.010526                 Description_IVORY KITCHEN SCALES  0.458333       0.004825\n",
            "63128    12349     0.014058         Description_SCOTTIE DOG HOT WATER BOTTLE  0.320000       0.004498\n",
            "81411    12349     0.007299    Description_WOODEN PICTURE FRAME WHITE FINISH  0.559633       0.004085\n",
            "4626     12349     0.004969            Description_ALARM CLOCK BAKELIKE RED   0.621359       0.003087\n",
            "47666    12349     0.016801      Description_NATURAL SLATE CHALKBOARD LARGE   0.183673       0.003086\n",
            "27759    12349     0.044118            Description_EDWARDIAN PARASOL NATURAL  0.066667       0.002941\n",
            "72661    12349     0.020000     Description_VINTAGE CREAM DOG FOOD CONTAINER  0.135135       0.002703\n",
            "77893    12349     0.009589    Description_WOOD BLACK BOARD ANT WHITE FINISH  0.253731       0.002433\n",
            "50940    12349     0.005682           Description_PICNIC BASKET WICKER LARGE  0.404762       0.002300\n",
            "34789    12349     0.004957      Description_HOT WATER BOTTLE I AM SO POORLY  0.446154       0.002211\n",
            "37389    12349     0.004808               Description_IVORY DINER WALL CLOCK  0.457627       0.002200\n",
            "44139    12349     0.006642                Description_LOVE HOT WATER BOTTLE  0.304878       0.002025\n",
            "16192    12349     0.015873          Description_CREAM SWEETHEART MINI CHEST  0.123077       0.001954\n",
            "30431    12349     0.007155     Description_FAMILY ALBUM WHITE PICTURE FRAME  0.222222       0.001590\n",
            "15292    12349     0.010089  Description_CLASSIC METAL BIRDCAGE PLANT HOLDER  0.122449       0.001235\n",
            "8060     12349     0.009615       Description_BOX OF VINTAGE ALPHABET BLOCKS  0.125000       0.001202\n",
            "54482    12349     0.004009                   Description_RED KITCHEN SCALES  0.291667       0.001169\n",
            "79682    12349     0.005548            Description_WOODEN CROQUET GARDEN SET  0.203704       0.001130\n",
            "9857     12349     0.001946           Description_BREAD BIN DINER STYLE RED   0.368421       0.000717\n",
            "74493    12349     0.003717           Description_VINTAGE UNION JACK BUNTING  0.172414       0.000641\n",
            "53594    12349     0.000530                 Description_RED DINER WALL CLOCK  0.444444       0.000236\n",
            "\n",
            "[61117 rows x 5 columns]\n"
          ],
          "name": "stdout"
        }
      ]
    },
    {
      "cell_type": "code",
      "metadata": {
        "id": "-p8akGMdbfdp",
        "colab_type": "code",
        "colab": {}
      },
      "source": [
        "finalfinaldf.to_csv(\"Desktop/recomendacaofinal.csv\",index  = False)"
      ],
      "execution_count": 0,
      "outputs": []
    },
    {
      "cell_type": "code",
      "metadata": {
        "id": "btvqG--pbfdr",
        "colab_type": "code",
        "colab": {}
      },
      "source": [
        ""
      ],
      "execution_count": 0,
      "outputs": []
    },
    {
      "cell_type": "code",
      "metadata": {
        "id": "EmO826h4bfdt",
        "colab_type": "code",
        "colab": {}
      },
      "source": [
        ""
      ],
      "execution_count": 0,
      "outputs": []
    }
  ]
}